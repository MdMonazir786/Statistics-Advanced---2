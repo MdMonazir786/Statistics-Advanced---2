{
  "nbformat": 4,
  "nbformat_minor": 0,
  "metadata": {
    "colab": {
      "provenance": []
    },
    "kernelspec": {
      "name": "python3",
      "display_name": "Python 3"
    },
    "language_info": {
      "name": "python"
    }
  },
  "cells": [
    {
      "cell_type": "markdown",
      "source": [
        "#Statistics Advanced - 2"
      ],
      "metadata": {
        "id": "lnhGisLFmwBs"
      }
    },
    {
      "cell_type": "markdown",
      "source": [
        "1. What is hypothesis testing in statistics?\n",
        "\n",
        "-> Hypothesis testing in statistics is a method used to make decisions or inferences about a population based on sample data.\n",
        "\n",
        "It helps determine whether there is enough statistical evidence to support or reject a claim (hypothesis) about a population parameter.\n",
        "\n",
        "**Key Steps:**\n",
        "\n",
        "A. State the hypotheses:\n",
        "\n",
        "(a). Null hypothesis (H₀): Assumes no effect or no difference.\n",
        "Example: “There is no difference in average income between two cities.”\n",
        "\n",
        "(b). Alternative hypothesis (H₁ or Ha): Assumes there is an effect or difference.\n",
        "Example: “There is a difference in average income between two cities.”\n",
        "\n",
        "B. Set the significance level (α):\n",
        "Usually 0.05 (5%), which represents the probability of rejecting H₀ when it's actually true.\n",
        "\n",
        "C. Calculate the test statistic and p-value.\n",
        "\n",
        "D. Make a decision:\n",
        "\n",
        "(a). If p-value ≤ α, reject H₀ → evidence supports the alternative hypothesis.\n",
        "\n",
        "(b). If p-value > α, fail to reject H₀ → not enough evidence to support H₁.\n",
        "\n",
        "2. What is the null hypothesis, and how does it differ from the alternative hypothesis?\n",
        "\n",
        "-> The null hypothesis (H₀) and the alternative hypothesis (H₁ or Ha) are the two competing statements in hypothesis testing.\n",
        "\n",
        "**Differences:**\n",
        "\n",
        "A. Null Hypothesis (H₀):\n",
        "\n",
        "(a). It is the default assumption that there is no effect, no difference, or no relationship between variables.\n",
        "\n",
        "(b). It represents the status quo or what is assumed to be true unless evidence suggests otherwise.\n",
        "\n",
        "(c). **Example:** H₀: The mean height of male and female students is the same.\n",
        "\n",
        "B. Alternative Hypothesis (H₁ or Ha):\n",
        "\n",
        "(a). It is the statement that contradicts the null hypothesis.\n",
        "\n",
        "(b). It represents what the researcher wants to prove — that there is an effect, a difference, or a relationship.\n",
        "\n",
        "(c). **Example:** H₁: The mean height of male and female students is different.\n",
        "\n",
        "3. Explain the significance level in hypothesis testing and its role in deciding the outcome of a test.\n",
        "\n",
        "-> The significance level (α) in hypothesis testing represents the threshold for deciding whether to reject the null hypothesis (H₀). It defines the maximum probability of making a Type I error, which occurs when you reject a true null hypothesis.\n",
        "\n",
        "**Meaning:**\n",
        "\n",
        "(a). It is a predefined cutoff value (commonly 0.05 or 5%).\n",
        "\n",
        "(b). It shows how much risk you are willing to accept of being wrong when rejecting H₀.\n",
        "\n",
        "**Role in Hypothesis Testing:**\n",
        "\n",
        "A. Set before the test begins (usually α = 0.05, 0.01, or 0.10).\n",
        "\n",
        "B. Compare the p-value (calculated from the test) with α:\n",
        "\n",
        "(a). If p-value ≤ α → Reject H₀ → The result is statistically significant.\n",
        "\n",
        "(b). If p-value > α → Fail to reject H₀ → No significant evidence against H₀.\n",
        "\n",
        "***Example:**\n",
        "\n",
        "If α = 0.05, it means:\n",
        "\n",
        "You are willing to accept a 5% chance of rejecting the null hypothesis when it is actually true.\n",
        "\n",
        "4. What are Type I and Type II errors? Give examples of each.\n",
        "\n",
        "-> In hypothesis testing, there are two possible types of errors that can occur when making decisions about the null hypothesis (H₀): Type I and Type II errors.\n",
        "\n",
        "A. Type I Error (False Positive):\n",
        "\n",
        "(a). Occurs when you reject the null hypothesis (H₀) even though it is actually true.\n",
        "\n",
        "(b). It means you detect an effect or difference that does not really exist.\n",
        "\n",
        "(c). The probability of making a Type I error is the significance level (α).\n",
        "\n",
        "**Example:**\n",
        "\n",
        "A medical test incorrectly shows that a healthy person has a disease.\n",
        "\n",
        "H₀: The person is healthy.\n",
        "\n",
        "H₁: The person is sick.\n",
        "\n",
        "Rejecting H₀ (saying the person is sick) when they are actually healthy → Type I error.\n",
        "\n",
        "B. Type II Error (False Negative):\n",
        "\n",
        "(a). Occurs when you fail to reject the null hypothesis (H₀) even though it is actually false.\n",
        "\n",
        "(b). It means you miss a real effect or difference.\n",
        "\n",
        "(c). The probability of making a Type II error is denoted by β (beta), and (1 - β) is called the power of the test.\n",
        "\n",
        "**Example:**\n",
        "\n",
        "A medical test fails to detect a disease in a person who actually has it.\n",
        "\n",
        "H₀: The person is healthy.\n",
        "\n",
        "H₁: The person is sick.\n",
        "\n",
        "Failing to reject H₀ (saying the person is healthy) when they are actually sick → Type II error.\n",
        "\n",
        "5. What is the difference between a Z-test and a T-test? Explain when to use each.\n",
        "\n",
        "-> The Z-test and T-test are both statistical tests used to compare sample data and make inferences about a population — but they differ mainly in sample size and knowledge of population standard deviation (σ).\n",
        "\n",
        "A. **Z-Test:** Used when:\n",
        "\n",
        "(a). The population standard deviation (σ) is known.\n",
        "\n",
        "(b). The sample size (n) is large, typically n ≥ 30 (Central Limit Theorem applies).\n",
        "\n",
        "(c). The data are approximately normally distributed.\n",
        "\n",
        "(d). Distribution used: Normal (Z) distribution\n",
        "\n",
        "\n",
        "**Applications:**\n",
        "\n",
        "(a). Comparing a sample mean to a population mean (One-sample Z-test).\n",
        "\n",
        "(b). Comparing two population proportions (Two-proportion Z-test).\n",
        "\n",
        "**Example:**\n",
        "\n",
        "A company knows the population standard deviation of battery life (σ = 2 hours) and wants to check if a new batch differs from the standard average of 10 hours using a large sample (n = 100). → **Use Z-test.**\n",
        "\n",
        "B. **T-Test:** Used when:\n",
        "\n",
        "(a). The population standard deviation (σ) is unknown.\n",
        "\n",
        "(b). The sample size (n) is small (n < 30).\n",
        "\n",
        "(c). The data follow a normal or nearly normal distribution.\n",
        "\n",
        "(d). Distribution used: T-distribution\n",
        "\n",
        "**Types:**\n",
        "\n",
        "(a). One-sample T-test: Compare sample mean to population mean.\n",
        "\n",
        "(b). Independent two-sample T-test: Compare means of two independent groups.\n",
        "\n",
        "(c). Paired T-test: Compare means of the same group before and after treatment.\n",
        "\n",
        "**Example:**\n",
        "\n",
        "A teacher wants to check if a new teaching method improved scores using a sample of 20 students (σ unknown). → **Use T-test.**\n"
      ],
      "metadata": {
        "id": "pB106ylJmy27"
      }
    },
    {
      "cell_type": "code",
      "source": [
        "# 6. Write a Python program to generate a binomial distribution with n=10 and p=0.5, then plot its histogram.\n"
      ],
      "metadata": {
        "id": "AlG8MMHo08a8"
      },
      "execution_count": null,
      "outputs": []
    },
    {
      "cell_type": "code",
      "source": [
        "import numpy as np\n",
        "import pandas as pd\n",
        "import matplotlib.pyplot as plt\n",
        "from scipy.stats import binom\n",
        "\n",
        "n = 10   # number of trials\n",
        "p = 0.5  # probability of success\n",
        "size = 1000  # number of samples\n",
        "\n",
        "data = np.random.binomial(n, p, size)\n",
        "\n",
        "plt.hist(data, bins=20)\n",
        "plt.title(\"Binomial Distribution (n=10, p=0.5)\")\n",
        "plt.xlabel(\"Number of Successes\")\n",
        "plt.ylabel(\"Frequency\")\n",
        "plt.show()\n"
      ],
      "metadata": {
        "colab": {
          "base_uri": "https://localhost:8080/",
          "height": 472
        },
        "id": "HmqwFD5y1J-1",
        "outputId": "15e14b2b-d15c-43da-ddb1-7b9eb0fa62c5"
      },
      "execution_count": 4,
      "outputs": [
        {
          "output_type": "display_data",
          "data": {
            "text/plain": [
              "<Figure size 640x480 with 1 Axes>"
            ],
            "image/png": "[encoded data removed]"
          },
          "metadata": {}
        }
      ]
    },
    {
      "cell_type": "code",
      "source": [
        "# 7. Implement hypothesis testing using Z-statistics for a sample dataset in Python. Show the Python code and interpret the results."
      ],
      "metadata": {
        "id": "oBpxbqJE2rOa"
      },
      "execution_count": null,
      "outputs": []
    },
    {
      "cell_type": "code",
      "source": [
        "import numpy as np\n",
        "from scipy.stats import norm\n",
        "\n",
        "sample_data = [49.1, 50.2, 51.0, 48.7, 50.5, 49.8, 50.3, 50.7, 50.2, 49.6,\n",
        "               50.1, 49.9, 50.8, 50.4, 48.9, 50.6, 50.0, 49.7, 50.2, 49.5,\n",
        "               50.1, 50.3, 50.4, 50.5, 50.0, 50.7, 49.3, 49.8, 50.2, 50.9,\n",
        "               50.3, 50.4, 50.0, 49.7, 50.5, 49.9]\n",
        "\n",
        "# Hypothesized population mean\n",
        "mu_0 = 50\n",
        "\n",
        "sample_mean = np.mean(sample_data)\n",
        "sample_std = np.std(sample_data, ddof=1)  # sample standard deviation\n",
        "n = len(sample_data)\n",
        "\n",
        "z_stat = (sample_mean - mu_0) / (sample_std / np.sqrt(n))\n",
        "\n",
        "# Two-tailed test at α = 0.05\n",
        "alpha = 0.05\n",
        "z_critical = norm.ppf(1 - alpha/2)\n",
        "\n",
        "# p-value\n",
        "p_value = 2 * (1 - norm.cdf(abs(z_stat)))\n",
        "\n",
        "print(f\"Sample mean = {sample_mean:.3f}\")\n",
        "print(f\"Sample standard deviation = {sample_std:.3f}\")\n",
        "print(f\"Z-statistic = {z_stat:.3f}\")\n",
        "print(f\"Critical value (±Zₐ/₂) = ±{z_critical:.3f}\")\n",
        "print(f\"P-value = {p_value:.4f}\")\n",
        "\n",
        "# Decision\n",
        "if abs(z_stat) > z_critical:\n",
        "    print(\"Reject the null hypothesis (H1). The sample mean is significantly different from 50.\")\n",
        "else:\n",
        "    print(\"Fail to reject the null hypothesis (H0). No significant difference from 50.\")\n"
      ],
      "metadata": {
        "colab": {
          "base_uri": "https://localhost:8080/"
        },
        "id": "QHoVPFkb23Fk",
        "outputId": "7d51bc42-7319-49e7-cb19-ea18fd17858e"
      },
      "execution_count": 23,
      "outputs": [
        {
          "output_type": "stream",
          "name": "stdout",
          "text": [
            "Sample mean = 50.089\n",
            "Sample standard deviation = 0.537\n",
            "Z-statistic = 0.994\n",
            "Critical value (±Zₐ/₂) = ±1.960\n",
            "P-value = 0.3202\n",
            "Fail to reject the null hypothesis (H0). No significant difference from 50.\n"
          ]
        }
      ]
    },
    {
      "cell_type": "code",
      "source": [
        "# 8. Write a Python script to simulate data from a normal distribution and calculate the 95% confidence interval for its mean. Plot the data using Matplotlib."
      ],
      "metadata": {
        "id": "dKiw2W1HAkQF"
      },
      "execution_count": null,
      "outputs": []
    },
    {
      "cell_type": "code",
      "source": [
        "import numpy as np\n",
        "import matplotlib.pyplot as plt\n",
        "import scipy.stats as stats\n",
        "\n",
        "# Step 1: Simulate data from a normal distribution\n",
        "np.random.normal()\n",
        "data = np.random.normal(loc=50, scale=10, size=100)  #mean=50, std=10, n=100\n",
        "\n",
        "# Step 2: Calculate the 95% confidence interval for the mean\n",
        "mean = np.mean(data)\n",
        "sem = stats.sem(data)  # Standard error of the mean\n",
        "confidence_interval = stats.t.interval(0.95, df=len(data)-1, loc=mean, scale=sem)\n",
        "\n",
        "print(f\"Sample Mean: {mean:.2f}\")\n",
        "print(f\"95% Confidence Interval: {confidence_interval}\")\n",
        "\n",
        "# Step 3: Plot the data\n",
        "plt.figure(figsize=(10,6))\n",
        "plt.hist(data, bins=15)\n",
        "plt.title('Histogram of Simulated Data with 95% Confidence Interval')\n",
        "plt.xlabel('Value')\n",
        "plt.ylabel('Frequency')\n",
        "plt.show()\n"
      ],
      "metadata": {
        "colab": {
          "base_uri": "https://localhost:8080/",
          "height": 601
        },
        "id": "rJEYzAGhAobP",
        "outputId": "24fb527d-f0ad-4c77-8d4c-baac84ad8848"
      },
      "execution_count": 31,
      "outputs": [
        {
          "output_type": "stream",
          "name": "stdout",
          "text": [
            "Sample Mean: 50.48\n",
            "95% Confidence Interval: (np.float64(48.347695027070806), np.float64(52.60419611723895))\n"
          ]
        },
        {
          "output_type": "display_data",
          "data": {
            "text/plain": [
              "<Figure size 1000x600 with 1 Axes>"
            ],
            "image/png": "[encoded data removed]"
          },
          "metadata": {}
        }
      ]
    },
    {
      "cell_type": "code",
      "source": [
        "# 9. Write a Python function to calculate the Z-scores from a dataset and visualize the standardized data using a histogram. Explain what the Z-scores represent in terms of standard deviations from the mean."
      ],
      "metadata": {
        "id": "Qb8rNlAiEgnS"
      },
      "execution_count": null,
      "outputs": []
    },
    {
      "cell_type": "code",
      "source": [
        "import numpy as np\n",
        "import matplotlib.pyplot as plt\n",
        "\n",
        "# Function to calculate Z-scores\n",
        "def calculate_z_scores(data):\n",
        "    mean = np.mean(data)\n",
        "    std = np.std(data, ddof=1)  # sample standard deviation\n",
        "    z_scores = (data - mean) / std\n",
        "    return z_scores\n",
        "\n",
        "# Example dataset\n",
        "data = np.array([50, 52, 47, 49, 51, 53, 48, 50, 52, 49])\n",
        "\n",
        "# Calculate Z-scores\n",
        "z_scores = calculate_z_scores(data)\n",
        "\n",
        "# Print Z-scores\n",
        "print(\"Z-scores:\", z_scores)\n",
        "\n",
        "# Visualize Z-scores using a histogram\n",
        "plt.figure(figsize=(8,5))\n",
        "plt.hist(z_scores, bins=8, color='skyblue', edgecolor='black', alpha=0.7)\n",
        "plt.axvline(0, color='red', linestyle='dashed', linewidth=2, label='Mean (Z=0)')\n",
        "plt.title('Histogram of Z-scores')\n",
        "plt.xlabel('Z-score')\n",
        "plt.ylabel('Frequency')\n",
        "plt.legend()\n",
        "plt.show()\n"
      ],
      "metadata": {
        "colab": {
          "base_uri": "https://localhost:8080/",
          "height": 524
        },
        "id": "bdVs4lCEEtmB",
        "outputId": "4bb10b98-3ed3-4e1e-ff00-4ed876b0de4e"
      },
      "execution_count": 32,
      "outputs": [
        {
          "output_type": "stream",
          "name": "stdout",
          "text": [
            "Z-scores: [-0.0523026   0.99374946 -1.6213807  -0.57532864  0.47072343  1.5167755\n",
            " -1.09835467 -0.0523026   0.99374946 -0.57532864]\n"
          ]
        },
        {
          "output_type": "display_data",
          "data": {
            "text/plain": [
              "<Figure size 800x500 with 1 Axes>"
            ],
            "image/png": "[encoded data removed]"
          },
          "metadata": {}
        }
      ]
    },
    {
      "cell_type": "code",
      "source": [
        "\"\"\"\n",
        "Z-scores represent:\n",
        "\n",
        "A Z-score tells us how far a data point is from the mean, in units of standard deviation:\n",
        "\n",
        "z_scores = (data - mean) / std\n",
        "\n",
        "Where:\n",
        "\n",
        "𝑋\n",
        "X = data point\n",
        "\n",
        "𝜇\n",
        "μ = mean of the dataset\n",
        "\n",
        "𝜎\n",
        "σ = standard deviation\n",
        "\n",
        "Z = 0 → exactly at the mean\n",
        "\n",
        "Z = 1 → 1 standard deviation above the mean\n",
        "\n",
        "Z = -2 → 2 standard deviations below the mean\n",
        "\"\"\""
      ],
      "metadata": {
        "colab": {
          "base_uri": "https://localhost:8080/",
          "height": 72
        },
        "id": "myYHAxTzGOhk",
        "outputId": "935a3068-cebb-4021-b4f5-190d3fdf058a"
      },
      "execution_count": 33,
      "outputs": [
        {
          "output_type": "execute_result",
          "data": {
            "text/plain": [
              "'\\nZ-scores represent:\\n\\nA Z-score tells us how far a data point is from the mean, in units of standard deviation:\\n\\nz_scores = (data - mean) / std\\n\\nWhere:\\n\\n𝑋\\nX = data point\\n\\n𝜇\\nμ = mean of the dataset\\n\\n𝜎\\nσ = standard deviation\\n\\nZ = 0 → exactly at the mean\\n\\nZ = 1 → 1 standard deviation above the mean\\n\\nZ = -2 → 2 standard deviations below the mean\\n'"
            ],
            "application/vnd.google.colaboratory.intrinsic+json": {
              "type": "string"
            }
          },
          "metadata": {},
          "execution_count": 33
        }
      ]
    }
  ]
}